{
 "cells": [
  {
   "cell_type": "markdown",
   "metadata": {
    "id": "euPQYc6KxKsy"
   },
   "source": [
    "# Modelling - Vanilla Algorithms Gridsearch RF\n",
    "Author: P.C.O. Maseland <br>\n",
    "Date: 03 December 2021 <br>"
   ]
  },
  {
   "cell_type": "code",
   "execution_count": 1,
   "metadata": {
    "id": "rg7c0Vdk379_"
   },
   "outputs": [],
   "source": [
    "# !!! RUN !!!\n",
    "#Import packages/libraries\n",
    "import pandas as pd\n",
    "import numpy as np\n",
    "\n",
    "import matplotlib.pyplot as plt\n",
    "import seaborn as sns\n",
    "\n",
    "from sklearn.metrics import classification_report, confusion_matrix\n",
    "from sklearn.model_selection import train_test_split\n",
    "from sklearn.model_selection import GridSearchCV\n",
    "from sklearn.metrics import mean_squared_error\n",
    "\n",
    "#Random forest packages\n",
    "from sklearn.ensemble import RandomForestRegressor\n",
    "from sklearn.ensemble import RandomForestClassifier\n",
    "\n",
    "%matplotlib inline"
   ]
  },
  {
   "cell_type": "markdown",
   "metadata": {
    "id": "Kmv-RN492hFN"
   },
   "source": [
    "### Load Correct datafile\n",
    "\n",
    "**prepared accelerometer, gyroscope and magnetometer csv**"
   ]
  },
  {
   "cell_type": "code",
   "execution_count": 2,
   "metadata": {
    "id": "KQ62nPz32gdU"
   },
   "outputs": [],
   "source": [
    "# !!! RUN !!!\n",
    "#local jupyter notebook path\n",
    "path =\"Totalset+slopes+mean+sd.csv\"\n",
    "df = pd.read_csv(path)"
   ]
  },
  {
   "cell_type": "code",
   "execution_count": 3,
   "metadata": {
    "colab": {
     "base_uri": "https://localhost:8080/",
     "height": 735
    },
    "id": "JPXeoNh6lovi",
    "outputId": "c0e738b4-b5f2-4f5f-fb61-6027893f816a",
    "scrolled": true
   },
   "outputs": [
    {
     "data": {
      "text/html": [
       "<div>\n",
       "<style scoped>\n",
       "    .dataframe tbody tr th:only-of-type {\n",
       "        vertical-align: middle;\n",
       "    }\n",
       "\n",
       "    .dataframe tbody tr th {\n",
       "        vertical-align: top;\n",
       "    }\n",
       "\n",
       "    .dataframe thead th {\n",
       "        text-align: right;\n",
       "    }\n",
       "</style>\n",
       "<table border=\"1\" class=\"dataframe\">\n",
       "  <thead>\n",
       "    <tr style=\"text-align: right;\">\n",
       "      <th></th>\n",
       "      <th>magnitude_chest_acc</th>\n",
       "      <th>magnitude_forearm_acc</th>\n",
       "      <th>magnitude_head_acc</th>\n",
       "      <th>magnitude_shin_acc</th>\n",
       "      <th>magnitude_thigh_acc</th>\n",
       "      <th>magnitude_upperarm_acc</th>\n",
       "      <th>magnitude_waist_acc</th>\n",
       "      <th>magnitude_chest_gyr</th>\n",
       "      <th>magnitude_forearm_gyr</th>\n",
       "      <th>magnitude_head_gyr</th>\n",
       "      <th>...</th>\n",
       "      <th>magnitude_head_mag_mean</th>\n",
       "      <th>magnitude_head_mag_sd</th>\n",
       "      <th>magnitude_shin_mag_mean</th>\n",
       "      <th>magnitude_shin_mag_sd</th>\n",
       "      <th>magnitude_thigh_mag_mean</th>\n",
       "      <th>magnitude_thigh_mag_sd</th>\n",
       "      <th>magnitude_upperarm_mag_mean</th>\n",
       "      <th>magnitude_upperarm_mag_sd</th>\n",
       "      <th>magnitude_waist_mag_mean</th>\n",
       "      <th>magnitude_waist_mag_sd</th>\n",
       "    </tr>\n",
       "  </thead>\n",
       "  <tbody>\n",
       "    <tr>\n",
       "      <th>0</th>\n",
       "      <td>9.771236</td>\n",
       "      <td>9.787128</td>\n",
       "      <td>9.684595</td>\n",
       "      <td>10.100332</td>\n",
       "      <td>9.532843</td>\n",
       "      <td>10.154984</td>\n",
       "      <td>9.825808</td>\n",
       "      <td>0.038048</td>\n",
       "      <td>0.005705</td>\n",
       "      <td>0.069351</td>\n",
       "      <td>...</td>\n",
       "      <td>NaN</td>\n",
       "      <td>NaN</td>\n",
       "      <td>NaN</td>\n",
       "      <td>NaN</td>\n",
       "      <td>NaN</td>\n",
       "      <td>NaN</td>\n",
       "      <td>NaN</td>\n",
       "      <td>NaN</td>\n",
       "      <td>NaN</td>\n",
       "      <td>NaN</td>\n",
       "    </tr>\n",
       "    <tr>\n",
       "      <th>1</th>\n",
       "      <td>9.803299</td>\n",
       "      <td>9.830025</td>\n",
       "      <td>9.652884</td>\n",
       "      <td>10.090979</td>\n",
       "      <td>9.538804</td>\n",
       "      <td>10.144928</td>\n",
       "      <td>9.820284</td>\n",
       "      <td>0.036161</td>\n",
       "      <td>0.009607</td>\n",
       "      <td>0.063729</td>\n",
       "      <td>...</td>\n",
       "      <td>NaN</td>\n",
       "      <td>NaN</td>\n",
       "      <td>NaN</td>\n",
       "      <td>NaN</td>\n",
       "      <td>NaN</td>\n",
       "      <td>NaN</td>\n",
       "      <td>NaN</td>\n",
       "      <td>NaN</td>\n",
       "      <td>NaN</td>\n",
       "      <td>NaN</td>\n",
       "    </tr>\n",
       "    <tr>\n",
       "      <th>2</th>\n",
       "      <td>9.828618</td>\n",
       "      <td>9.848948</td>\n",
       "      <td>9.723963</td>\n",
       "      <td>10.092054</td>\n",
       "      <td>9.538612</td>\n",
       "      <td>10.162209</td>\n",
       "      <td>9.807764</td>\n",
       "      <td>0.037268</td>\n",
       "      <td>0.008487</td>\n",
       "      <td>0.067978</td>\n",
       "      <td>...</td>\n",
       "      <td>NaN</td>\n",
       "      <td>NaN</td>\n",
       "      <td>NaN</td>\n",
       "      <td>NaN</td>\n",
       "      <td>NaN</td>\n",
       "      <td>NaN</td>\n",
       "      <td>NaN</td>\n",
       "      <td>NaN</td>\n",
       "      <td>NaN</td>\n",
       "      <td>NaN</td>\n",
       "    </tr>\n",
       "    <tr>\n",
       "      <th>3</th>\n",
       "      <td>9.672613</td>\n",
       "      <td>9.831390</td>\n",
       "      <td>9.775289</td>\n",
       "      <td>10.098940</td>\n",
       "      <td>9.530453</td>\n",
       "      <td>10.222147</td>\n",
       "      <td>9.857982</td>\n",
       "      <td>0.051724</td>\n",
       "      <td>0.008386</td>\n",
       "      <td>0.075489</td>\n",
       "      <td>...</td>\n",
       "      <td>NaN</td>\n",
       "      <td>NaN</td>\n",
       "      <td>NaN</td>\n",
       "      <td>NaN</td>\n",
       "      <td>NaN</td>\n",
       "      <td>NaN</td>\n",
       "      <td>NaN</td>\n",
       "      <td>NaN</td>\n",
       "      <td>NaN</td>\n",
       "      <td>NaN</td>\n",
       "    </tr>\n",
       "    <tr>\n",
       "      <th>4</th>\n",
       "      <td>9.800911</td>\n",
       "      <td>9.879557</td>\n",
       "      <td>9.749285</td>\n",
       "      <td>10.089414</td>\n",
       "      <td>9.536494</td>\n",
       "      <td>10.269088</td>\n",
       "      <td>9.843884</td>\n",
       "      <td>0.050047</td>\n",
       "      <td>0.014337</td>\n",
       "      <td>0.092244</td>\n",
       "      <td>...</td>\n",
       "      <td>50.880480</td>\n",
       "      <td>0.000000e+00</td>\n",
       "      <td>39.744127</td>\n",
       "      <td>0.0</td>\n",
       "      <td>43.489173</td>\n",
       "      <td>0.000000</td>\n",
       "      <td>49.108764</td>\n",
       "      <td>0.0</td>\n",
       "      <td>49.129630</td>\n",
       "      <td>0.068392</td>\n",
       "    </tr>\n",
       "    <tr>\n",
       "      <th>...</th>\n",
       "      <td>...</td>\n",
       "      <td>...</td>\n",
       "      <td>...</td>\n",
       "      <td>...</td>\n",
       "      <td>...</td>\n",
       "      <td>...</td>\n",
       "      <td>...</td>\n",
       "      <td>...</td>\n",
       "      <td>...</td>\n",
       "      <td>...</td>\n",
       "      <td>...</td>\n",
       "      <td>...</td>\n",
       "      <td>...</td>\n",
       "      <td>...</td>\n",
       "      <td>...</td>\n",
       "      <td>...</td>\n",
       "      <td>...</td>\n",
       "      <td>...</td>\n",
       "      <td>...</td>\n",
       "      <td>...</td>\n",
       "      <td>...</td>\n",
       "    </tr>\n",
       "    <tr>\n",
       "      <th>95</th>\n",
       "      <td>9.813382</td>\n",
       "      <td>9.843272</td>\n",
       "      <td>9.728845</td>\n",
       "      <td>10.123720</td>\n",
       "      <td>9.531407</td>\n",
       "      <td>10.199592</td>\n",
       "      <td>9.815353</td>\n",
       "      <td>0.074777</td>\n",
       "      <td>0.050545</td>\n",
       "      <td>0.062284</td>\n",
       "      <td>...</td>\n",
       "      <td>50.814043</td>\n",
       "      <td>1.935957e-01</td>\n",
       "      <td>39.966902</td>\n",
       "      <td>0.0</td>\n",
       "      <td>43.415478</td>\n",
       "      <td>0.134441</td>\n",
       "      <td>49.179638</td>\n",
       "      <td>0.0</td>\n",
       "      <td>49.233537</td>\n",
       "      <td>0.398488</td>\n",
       "    </tr>\n",
       "    <tr>\n",
       "      <th>96</th>\n",
       "      <td>9.758835</td>\n",
       "      <td>9.837921</td>\n",
       "      <td>9.746465</td>\n",
       "      <td>10.113368</td>\n",
       "      <td>9.523090</td>\n",
       "      <td>10.203853</td>\n",
       "      <td>9.887570</td>\n",
       "      <td>0.073352</td>\n",
       "      <td>0.051339</td>\n",
       "      <td>0.061273</td>\n",
       "      <td>...</td>\n",
       "      <td>50.896380</td>\n",
       "      <td>1.215304e-01</td>\n",
       "      <td>39.966902</td>\n",
       "      <td>0.0</td>\n",
       "      <td>43.355354</td>\n",
       "      <td>0.164656</td>\n",
       "      <td>49.179638</td>\n",
       "      <td>0.0</td>\n",
       "      <td>49.300787</td>\n",
       "      <td>0.332561</td>\n",
       "    </tr>\n",
       "    <tr>\n",
       "      <th>97</th>\n",
       "      <td>9.761502</td>\n",
       "      <td>9.849287</td>\n",
       "      <td>9.751139</td>\n",
       "      <td>10.105277</td>\n",
       "      <td>9.542320</td>\n",
       "      <td>10.198063</td>\n",
       "      <td>9.895177</td>\n",
       "      <td>0.069118</td>\n",
       "      <td>0.048489</td>\n",
       "      <td>0.064585</td>\n",
       "      <td>...</td>\n",
       "      <td>50.950730</td>\n",
       "      <td>1.795787e-07</td>\n",
       "      <td>39.966902</td>\n",
       "      <td>0.0</td>\n",
       "      <td>43.295230</td>\n",
       "      <td>0.164656</td>\n",
       "      <td>49.179638</td>\n",
       "      <td>0.0</td>\n",
       "      <td>49.298018</td>\n",
       "      <td>0.334056</td>\n",
       "    </tr>\n",
       "    <tr>\n",
       "      <th>98</th>\n",
       "      <td>9.816022</td>\n",
       "      <td>9.838173</td>\n",
       "      <td>9.704408</td>\n",
       "      <td>10.108862</td>\n",
       "      <td>9.533452</td>\n",
       "      <td>10.224991</td>\n",
       "      <td>9.815756</td>\n",
       "      <td>0.056011</td>\n",
       "      <td>0.047734</td>\n",
       "      <td>0.058587</td>\n",
       "      <td>...</td>\n",
       "      <td>50.950730</td>\n",
       "      <td>1.795787e-07</td>\n",
       "      <td>39.966902</td>\n",
       "      <td>0.0</td>\n",
       "      <td>43.235106</td>\n",
       "      <td>0.134441</td>\n",
       "      <td>49.179638</td>\n",
       "      <td>0.0</td>\n",
       "      <td>49.148624</td>\n",
       "      <td>0.000000</td>\n",
       "    </tr>\n",
       "    <tr>\n",
       "      <th>99</th>\n",
       "      <td>9.798809</td>\n",
       "      <td>9.832234</td>\n",
       "      <td>9.695442</td>\n",
       "      <td>10.095035</td>\n",
       "      <td>9.529767</td>\n",
       "      <td>10.201820</td>\n",
       "      <td>9.827470</td>\n",
       "      <td>0.048182</td>\n",
       "      <td>0.038228</td>\n",
       "      <td>0.052500</td>\n",
       "      <td>...</td>\n",
       "      <td>50.950730</td>\n",
       "      <td>1.795787e-07</td>\n",
       "      <td>39.966902</td>\n",
       "      <td>0.0</td>\n",
       "      <td>43.174983</td>\n",
       "      <td>0.000000</td>\n",
       "      <td>49.179638</td>\n",
       "      <td>0.0</td>\n",
       "      <td>49.148624</td>\n",
       "      <td>0.000000</td>\n",
       "    </tr>\n",
       "  </tbody>\n",
       "</table>\n",
       "<p>100 rows × 86 columns</p>\n",
       "</div>"
      ],
      "text/plain": [
       "    magnitude_chest_acc  magnitude_forearm_acc  magnitude_head_acc  \\\n",
       "0              9.771236               9.787128            9.684595   \n",
       "1              9.803299               9.830025            9.652884   \n",
       "2              9.828618               9.848948            9.723963   \n",
       "3              9.672613               9.831390            9.775289   \n",
       "4              9.800911               9.879557            9.749285   \n",
       "..                  ...                    ...                 ...   \n",
       "95             9.813382               9.843272            9.728845   \n",
       "96             9.758835               9.837921            9.746465   \n",
       "97             9.761502               9.849287            9.751139   \n",
       "98             9.816022               9.838173            9.704408   \n",
       "99             9.798809               9.832234            9.695442   \n",
       "\n",
       "    magnitude_shin_acc  magnitude_thigh_acc  magnitude_upperarm_acc  \\\n",
       "0            10.100332             9.532843               10.154984   \n",
       "1            10.090979             9.538804               10.144928   \n",
       "2            10.092054             9.538612               10.162209   \n",
       "3            10.098940             9.530453               10.222147   \n",
       "4            10.089414             9.536494               10.269088   \n",
       "..                 ...                  ...                     ...   \n",
       "95           10.123720             9.531407               10.199592   \n",
       "96           10.113368             9.523090               10.203853   \n",
       "97           10.105277             9.542320               10.198063   \n",
       "98           10.108862             9.533452               10.224991   \n",
       "99           10.095035             9.529767               10.201820   \n",
       "\n",
       "    magnitude_waist_acc  magnitude_chest_gyr  magnitude_forearm_gyr  \\\n",
       "0              9.825808             0.038048               0.005705   \n",
       "1              9.820284             0.036161               0.009607   \n",
       "2              9.807764             0.037268               0.008487   \n",
       "3              9.857982             0.051724               0.008386   \n",
       "4              9.843884             0.050047               0.014337   \n",
       "..                  ...                  ...                    ...   \n",
       "95             9.815353             0.074777               0.050545   \n",
       "96             9.887570             0.073352               0.051339   \n",
       "97             9.895177             0.069118               0.048489   \n",
       "98             9.815756             0.056011               0.047734   \n",
       "99             9.827470             0.048182               0.038228   \n",
       "\n",
       "    magnitude_head_gyr  ...  magnitude_head_mag_mean  magnitude_head_mag_sd  \\\n",
       "0             0.069351  ...                      NaN                    NaN   \n",
       "1             0.063729  ...                      NaN                    NaN   \n",
       "2             0.067978  ...                      NaN                    NaN   \n",
       "3             0.075489  ...                      NaN                    NaN   \n",
       "4             0.092244  ...                50.880480           0.000000e+00   \n",
       "..                 ...  ...                      ...                    ...   \n",
       "95            0.062284  ...                50.814043           1.935957e-01   \n",
       "96            0.061273  ...                50.896380           1.215304e-01   \n",
       "97            0.064585  ...                50.950730           1.795787e-07   \n",
       "98            0.058587  ...                50.950730           1.795787e-07   \n",
       "99            0.052500  ...                50.950730           1.795787e-07   \n",
       "\n",
       "    magnitude_shin_mag_mean  magnitude_shin_mag_sd  magnitude_thigh_mag_mean  \\\n",
       "0                       NaN                    NaN                       NaN   \n",
       "1                       NaN                    NaN                       NaN   \n",
       "2                       NaN                    NaN                       NaN   \n",
       "3                       NaN                    NaN                       NaN   \n",
       "4                 39.744127                    0.0                 43.489173   \n",
       "..                      ...                    ...                       ...   \n",
       "95                39.966902                    0.0                 43.415478   \n",
       "96                39.966902                    0.0                 43.355354   \n",
       "97                39.966902                    0.0                 43.295230   \n",
       "98                39.966902                    0.0                 43.235106   \n",
       "99                39.966902                    0.0                 43.174983   \n",
       "\n",
       "    magnitude_thigh_mag_sd  magnitude_upperarm_mag_mean  \\\n",
       "0                      NaN                          NaN   \n",
       "1                      NaN                          NaN   \n",
       "2                      NaN                          NaN   \n",
       "3                      NaN                          NaN   \n",
       "4                 0.000000                    49.108764   \n",
       "..                     ...                          ...   \n",
       "95                0.134441                    49.179638   \n",
       "96                0.164656                    49.179638   \n",
       "97                0.164656                    49.179638   \n",
       "98                0.134441                    49.179638   \n",
       "99                0.000000                    49.179638   \n",
       "\n",
       "    magnitude_upperarm_mag_sd  magnitude_waist_mag_mean  \\\n",
       "0                         NaN                       NaN   \n",
       "1                         NaN                       NaN   \n",
       "2                         NaN                       NaN   \n",
       "3                         NaN                       NaN   \n",
       "4                         0.0                 49.129630   \n",
       "..                        ...                       ...   \n",
       "95                        0.0                 49.233537   \n",
       "96                        0.0                 49.300787   \n",
       "97                        0.0                 49.298018   \n",
       "98                        0.0                 49.148624   \n",
       "99                        0.0                 49.148624   \n",
       "\n",
       "    magnitude_waist_mag_sd  \n",
       "0                      NaN  \n",
       "1                      NaN  \n",
       "2                      NaN  \n",
       "3                      NaN  \n",
       "4                 0.068392  \n",
       "..                     ...  \n",
       "95                0.398488  \n",
       "96                0.332561  \n",
       "97                0.334056  \n",
       "98                0.000000  \n",
       "99                0.000000  \n",
       "\n",
       "[100 rows x 86 columns]"
      ]
     },
     "execution_count": 3,
     "metadata": {},
     "output_type": "execute_result"
    }
   ],
   "source": [
    "df.head(100)"
   ]
  },
  {
   "cell_type": "code",
   "execution_count": 3,
   "metadata": {
    "id": "NPv2Z6o1t4nK"
   },
   "outputs": [],
   "source": [
    "# !!! RUN !!!\n",
    "#reorder such that labels are at the back\n",
    "df = df[[c for c in df if c not in ['Subject ID','Activity']] \n",
    "       + ['Subject ID','Activity']]"
   ]
  },
  {
   "cell_type": "markdown",
   "metadata": {
    "id": "_B9QPCJcFmWG"
   },
   "source": [
    "### Remove/Convert statistical NaN values\n",
    "Since we calculated our rolled statistics over a nr of timesteps. The first nr of timesteps have a NaN, these are therefore useless. On the whole set we removed thereby 24336 rows, which is just a small fraction of 0.4% of the whole."
   ]
  },
  {
   "cell_type": "code",
   "execution_count": 4,
   "metadata": {
    "colab": {
     "base_uri": "https://localhost:8080/"
    },
    "id": "K6KcvPhDobAQ",
    "outputId": "44b38686-6024-4121-8037-da0ba6f61e1a"
   },
   "outputs": [
    {
     "data": {
      "text/plain": [
       "(6084000, 86)"
      ]
     },
     "execution_count": 4,
     "metadata": {},
     "output_type": "execute_result"
    }
   ],
   "source": [
    "df.shape"
   ]
  },
  {
   "cell_type": "code",
   "execution_count": 4,
   "metadata": {
    "id": "t8uycyAOoUlp"
   },
   "outputs": [],
   "source": [
    "# !!! RUN !!!\n",
    "df = df. dropna()"
   ]
  },
  {
   "cell_type": "code",
   "execution_count": 6,
   "metadata": {
    "colab": {
     "base_uri": "https://localhost:8080/"
    },
    "id": "Tu4-_QWxtRer",
    "outputId": "05e4f30a-0cbb-47ba-e68c-614ebdb03673"
   },
   "outputs": [
    {
     "data": {
      "text/plain": [
       "(6059664, 86)"
      ]
     },
     "execution_count": 6,
     "metadata": {},
     "output_type": "execute_result"
    }
   ],
   "source": [
    "df.shape"
   ]
  },
  {
   "cell_type": "code",
   "execution_count": 9,
   "metadata": {
    "colab": {
     "base_uri": "https://localhost:8080/"
    },
    "id": "_VB0jvIQtV6G",
    "outputId": "7aea9ba6-dd29-490a-880f-cea0fdedd019"
   },
   "outputs": [
    {
     "data": {
      "text/plain": [
       "0.4"
      ]
     },
     "execution_count": 9,
     "metadata": {},
     "output_type": "execute_result"
    }
   ],
   "source": [
    "#removed rows. %loss\n",
    "((6084000 - 6059664) /6084000)*100"
   ]
  },
  {
   "cell_type": "markdown",
   "metadata": {},
   "source": [
    "### Full set copy"
   ]
  },
  {
   "cell_type": "code",
   "execution_count": 5,
   "metadata": {},
   "outputs": [
    {
     "name": "stdout",
     "output_type": "stream",
     "text": [
      "(6059664, 86)\n"
     ]
    }
   ],
   "source": [
    "# !!! RUN !!!\n",
    "#create copy full set\n",
    "fullset = df\n",
    "print(fullset.shape)\n",
    "\n",
    "#drop subject ID\n",
    "fullset_without_subject = fullset.drop(columns=['Subject ID'])\n",
    "\n",
    "#shuffle fullset\n",
    "fullset_without_subject = fullset_without_subject.sample(frac=1)"
   ]
  },
  {
   "cell_type": "markdown",
   "metadata": {},
   "source": [
    "### Reduce size of set for computation\n"
   ]
  },
  {
   "cell_type": "code",
   "execution_count": 6,
   "metadata": {
    "scrolled": true
   },
   "outputs": [
    {
     "name": "stdout",
     "output_type": "stream",
     "text": [
      "(605966, 85)\n",
      "<class 'pandas.core.frame.DataFrame'>\n"
     ]
    }
   ],
   "source": [
    "# !!! RUN !!!\n",
    "#take 10% of the data just for computational advantages, just experimenting\n",
    "size_subset = 0.1\n",
    "fullset_without_subject = fullset.drop(columns=['Subject ID'])\n",
    "\n",
    "#shuffle fullset\n",
    "fullset_without_subject = fullset_without_subject.sample(frac=1)\n",
    "subset_without_subject = fullset_without_subject[0:round(len(df)*size_subset)]\n",
    "\n",
    "print(subset_without_subject.shape)\n",
    "print(type(subset_without_subject))"
   ]
  },
  {
   "cell_type": "code",
   "execution_count": 27,
   "metadata": {},
   "outputs": [],
   "source": [
    "#shuffle subset\n",
    "subset_without_subject = subset_without_subject.sample(frac=1)"
   ]
  },
  {
   "cell_type": "markdown",
   "metadata": {},
   "source": [
    "### Make new subset\n",
    "With only time-base statistical values"
   ]
  },
  {
   "cell_type": "code",
   "execution_count": 7,
   "metadata": {},
   "outputs": [
    {
     "data": {
      "text/plain": [
       "(6059664, 64)"
      ]
     },
     "execution_count": 7,
     "metadata": {},
     "output_type": "execute_result"
    }
   ],
   "source": [
    "# !!! RUN !!!\n",
    "statistical_cols = [col for col in fullset_without_subject.columns if ('slope' in col \n",
    "                                                                      or 'mean' in col \n",
    "                                                                      or 'sd' in col\n",
    "                                                                      or 'Activity' in col)]\n",
    "statistical_cols\n",
    "\n",
    "new_subset = fullset_without_subject[statistical_cols]\n",
    "new_subset.shape"
   ]
  },
  {
   "cell_type": "code",
   "execution_count": 8,
   "metadata": {},
   "outputs": [
    {
     "data": {
      "text/plain": [
       "(605966, 64)"
      ]
     },
     "execution_count": 8,
     "metadata": {},
     "output_type": "execute_result"
    }
   ],
   "source": [
    "#subset alternative (smaller set)\n",
    "statistical_cols = [col for col in subset_without_subject.columns if ('slope' in col \n",
    "                                                                      or 'mean' in col \n",
    "                                                                      or 'sd' in col\n",
    "                                                                      or 'Activity' in col)]\n",
    "statistical_cols\n",
    "\n",
    "new_subset2 = subset_without_subject[statistical_cols]\n",
    "new_subset2.shape"
   ]
  },
  {
   "cell_type": "code",
   "execution_count": 9,
   "metadata": {},
   "outputs": [
    {
     "name": "stdout",
     "output_type": "stream",
     "text": [
      "(605966, 63)\n",
      "<class 'pandas.core.frame.DataFrame'>\n",
      "(605966,)\n"
     ]
    }
   ],
   "source": [
    "X2 = new_subset2.iloc[:,:-1]\n",
    "print(X2.shape)\n",
    "print(type(X2))\n",
    "\n",
    "y2 = new_subset2['Activity']\n",
    "print(y2.shape)"
   ]
  },
  {
   "cell_type": "markdown",
   "metadata": {
    "id": "8JjUuFmmtrky"
   },
   "source": [
    "### Model Set up - Random Forest\n"
   ]
  },
  {
   "cell_type": "code",
   "execution_count": 9,
   "metadata": {},
   "outputs": [],
   "source": [
    "from sklearn.metrics import classification_report, confusion_matrix\n",
    "from sklearn.model_selection import train_test_split\n",
    "from sklearn.ensemble import RandomForestRegressor"
   ]
  },
  {
   "cell_type": "markdown",
   "metadata": {},
   "source": [
    "### automated functions"
   ]
  },
  {
   "cell_type": "code",
   "execution_count": 6,
   "metadata": {},
   "outputs": [],
   "source": [
    "# !!! RUN !!!\n",
    "def dataset_prep(dataset, filters):\n",
    "    filterscolls = [col for col in dataset.columns if (filters in col or 'Activity' in col)]\n",
    "    outputname = dataset[filterscolls]\n",
    "    \n",
    "    return outputname"
   ]
  },
  {
   "cell_type": "code",
   "execution_count": 7,
   "metadata": {},
   "outputs": [],
   "source": [
    "# !!! RUN !!!\n",
    "def rf_model(dataset):\n",
    "    X = dataset.iloc[:,:-1]\n",
    "    y = dataset['Activity']\n",
    "\n",
    "    X_train, X_test, y_train, y_test = train_test_split(X, y, test_size=0.2, random_state=40, stratify=y)\n",
    "    print(X_train.shape)\n",
    "    print(y_train.shape)\n",
    "    print(X_test.shape)\n",
    "    print(y_test.shape)\n",
    "    \n",
    "    # Instantiate model with 10 decision trees\n",
    "    rf = RandomForestClassifier(max_depth=50, max_features=3, min_samples_leaf=3, min_samples_split=8, \n",
    "                               n_estimators=200, random_state = 42, class_weight='balanced')\n",
    "\n",
    "    # Train the model on training data\n",
    "    rf.fit(X_train, y_train)\n",
    "    \n",
    "    y_pred = rf.predict(X_test)\n",
    "    y_pred_rnd = np.around(y_pred, 0)\n",
    "\n",
    "    # Calculate the absolute errors\n",
    "    errors = abs(y_pred_rnd - y_test)\n",
    "\n",
    "    # Print out the mean absolute error (MAE)\n",
    "    print('Mean Absolute Error:', round(np.mean(errors), 2), 'degrees.')\n",
    "\n",
    "    #Evaluating matrix\n",
    "    print(confusion_matrix(y_test, y_pred_rnd))\n",
    "    print(classification_report(y_test, y_pred_rnd))\n",
    "    \n",
    "    return rf, X"
   ]
  },
  {
   "cell_type": "code",
   "execution_count": 9,
   "metadata": {},
   "outputs": [],
   "source": [
    "# !!! RUN !!!\n",
    "def importance_features(model, X, title):\n",
    "    #get importance\n",
    "    importances = list(model.feature_importances_)\n",
    "    feature_list = list(X.columns)\n",
    "\n",
    "    # List of tuples with variable and importance\n",
    "    feature_importances = [(feature, round(importance, 2)) for feature, importance in zip(feature_list, importances)]\n",
    "\n",
    "    # Sort the feature importances by most important first\n",
    "    feature_importances = sorted(feature_importances, key = lambda x: x[1], reverse = True)\n",
    "\n",
    "    # Print out the feature and importances \n",
    "    [print('Variable: {:20} Importance: {}'.format(*pair)) for pair in feature_importances]\n",
    "    \n",
    "    # list of x locations for plotting\n",
    "    x_values = list(range(len(importances)))\n",
    "\n",
    "    # Make a bar chart\n",
    "    plt.bar(x_values, importances, orientation = 'vertical')\n",
    "\n",
    "    # Tick labels for x axis\n",
    "    plt.xticks(x_values, feature_list, rotation='vertical')\n",
    "\n",
    "    # Axis labels and title\n",
    "    plotTitle = 'Variable Importances ' + str(title)\n",
    "    plt.ylabel('Importance'); plt.xlabel('Variable'); \n",
    "    plt.title(plotTitle);"
   ]
  },
  {
   "cell_type": "markdown",
   "metadata": {},
   "source": [
    "max_depth=50, max_features=3, min_samples_leaf=3, min_samples_split=8, n_estimators=200"
   ]
  },
  {
   "cell_type": "markdown",
   "metadata": {},
   "source": [
    "### Gridsearch for optimal settings\n"
   ]
  },
  {
   "cell_type": "markdown",
   "metadata": {},
   "source": [
    "#### Make subset of most important features for testing and gridsearch"
   ]
  },
  {
   "cell_type": "code",
   "execution_count": 8,
   "metadata": {},
   "outputs": [
    {
     "data": {
      "text/plain": [
       "(605966, 18)"
      ]
     },
     "execution_count": 8,
     "metadata": {},
     "output_type": "execute_result"
    }
   ],
   "source": [
    "#using a smaller set to prevent Memory error\n",
    "#put all together                    \n",
    "columns_imp = ['magnitude_waist_mag_slope', 'magnitude_chest_mag_slope', 'magnitude_shin_gyr_slope', 'magnitude_waist_acc_slope',\n",
    "                 'magnitude_upperarm_acc_slope', 'magnitude_waist_mag_sd', 'magnitude_shin_gyr_sd', 'magnitude_upperarm_gyr_sd', 'magnitude_thigh_acc_sd',\n",
    "                 'magnitude_upperarm_acc_sd', 'magnitude_thigh_mag_mean', 'magnitude_upperarm_mag_mean', 'magnitude_chest_gyr_mean', 'magnitude_waist_gyr_mean',\n",
    "                 'magnitude_chest_acc_mean', 'magnitude_upperarm_acc_mean', 'magnitude_waist_acc_mean', 'Activity']\n",
    "imp_set = new_subset2[columns_imp]\n",
    "imp_set.shape"
   ]
  },
  {
   "cell_type": "code",
   "execution_count": 11,
   "metadata": {},
   "outputs": [],
   "source": [
    "from sklearn.model_selection import GridSearchCV\n",
    "\n",
    "# Create the parameter grid based on the results of random search \n",
    "param_grid = {\n",
    "    'bootstrap': [True],\n",
    "    'max_depth': [50, 60],\n",
    "    'max_features': [2, 3],\n",
    "    'min_samples_leaf': [3, 4],\n",
    "    'min_samples_split': [8, 10],\n",
    "    'n_estimators': [100, 200]\n",
    "}\n",
    "# Create a based model\n",
    "rf = RandomForestRegressor() # # !!! RUN !!! -> with RandomForestClassifier() as model\n",
    "\n",
    "# Instantiate the grid search model\n",
    "grid_search = GridSearchCV(estimator = rf, param_grid = param_grid, \n",
    "                          cv = 3, n_jobs = -1, verbose = 2)\n",
    "\n",
    "#define X, y values\n",
    "X = imp_set.iloc[:,:-1]\n",
    "y = imp_set['Activity']\n",
    "\n",
    "X_train, X_test, y_train, y_test = train_test_split(X, y, test_size=0.2, random_state=42, stratify=y)"
   ]
  },
  {
   "cell_type": "code",
   "execution_count": 13,
   "metadata": {},
   "outputs": [
    {
     "name": "stdout",
     "output_type": "stream",
     "text": [
      "Fitting 3 folds for each of 32 candidates, totalling 96 fits\n"
     ]
    },
    {
     "data": {
      "text/plain": [
       "GridSearchCV(cv=3, estimator=RandomForestRegressor(), n_jobs=-1,\n",
       "             param_grid={'bootstrap': [True], 'max_depth': [50, 60],\n",
       "                         'max_features': [2, 3], 'min_samples_leaf': [3, 4],\n",
       "                         'min_samples_split': [8, 10],\n",
       "                         'n_estimators': [100, 200]},\n",
       "             verbose=2)"
      ]
     },
     "execution_count": 13,
     "metadata": {},
     "output_type": "execute_result"
    }
   ],
   "source": [
    "# Fit the grid search to the data\n",
    "#grid_search.fit(train_features, train_labels)\n",
    "grid_search.fit(X_train, y_train)"
   ]
  },
  {
   "cell_type": "code",
   "execution_count": 19,
   "metadata": {},
   "outputs": [
    {
     "name": "stdout",
     "output_type": "stream",
     "text": [
      "RandomForestRegressor(max_depth=50, max_features=3, min_samples_leaf=3,\n",
      "                      min_samples_split=8, n_estimators=200)\n"
     ]
    }
   ],
   "source": [
    "grid_search.best_params_\n",
    "\n",
    "best_grid = grid_search.best_estimator_\n",
    "print(best_grid)\n",
    "\n",
    "#n_estimators from 50 on doesn't increase results very much, \n",
    "#therefore 50 is shosen for computational advantages"
   ]
  },
  {
   "cell_type": "markdown",
   "metadata": {},
   "source": [
    "### Use gridsearch variables\n"
   ]
  },
  {
   "cell_type": "code",
   "execution_count": 12,
   "metadata": {},
   "outputs": [],
   "source": [
    "# !!! RUN !!!\n",
    "def rf_model_new(gridmodel, dataset):\n",
    "    X = dataset.iloc[:,:-1]\n",
    "    y = dataset['Activity']\n",
    "\n",
    "    X_train, X_test, y_train, y_test = train_test_split(X, y, test_size=0.2, random_state=40, stratify=y)\n",
    "    print(X_train.shape)\n",
    "    print(y_train.shape)\n",
    "    print(X_test.shape)\n",
    "    print(y_test.shape)\n",
    "    \n",
    "    # Instantiate model with 10 decision trees\n",
    "    rf = gridmodel\n",
    "\n",
    "    # Train the model on training data\n",
    "    rf.fit(X_train, y_train)\n",
    "    \n",
    "    y_pred_train = rf.predict(X_train)\n",
    "    y_pred_test = rf.predict(X_test)\n",
    "    y_pred_rnd = np.around(y_pred_test, 0)\n",
    "\n",
    "    # Calculate the absolute errors\n",
    "    errors = abs(y_pred_rnd - y_test)\n",
    "\n",
    "    # Print out the mean absolute error (MAE)\n",
    "    print('Mean Absolute Error:', round(np.mean(errors), 2), 'degrees.')\n",
    "\n",
    "    #Evaluating matrix\n",
    "    print(confusion_matrix(y_test, y_pred_rnd))\n",
    "    print(classification_report(y_test, y_pred_rnd))\n",
    "    \n",
    "    return rf, X, y_pred_rnd, y_pred_train, y_train, y_test"
   ]
  },
  {
   "cell_type": "code",
   "execution_count": 35,
   "metadata": {},
   "outputs": [
    {
     "name": "stdout",
     "output_type": "stream",
     "text": [
      "(4847731, 17)\n",
      "(4847731,)\n",
      "(1211933, 17)\n",
      "(1211933,)\n",
      "Mean Absolute Error: 0.31 degrees.\n",
      "[[ 30250  66674  17998   4369   1013    184     28      0]\n",
      " [    33  89015  35521   9677   2754    716    117     13]\n",
      " [     0     69  18510   2044     90      4      0      0]\n",
      " [     0     73    484 181163   1933    402      6      0]\n",
      " [     0     64    598   7142 182911   6935    156      0]\n",
      " [     0     15     93    205   1019 181952    378      0]\n",
      " [     0      0      2     36    283   6120 175429      0]\n",
      " [     0     54    581   2128   8199  24904  74685  74904]]\n",
      "              precision    recall  f1-score   support\n",
      "\n",
      "           0       1.00      0.25      0.40    120516\n",
      "           1       0.57      0.65      0.61    137846\n",
      "           2       0.25      0.89      0.39     20717\n",
      "           3       0.88      0.98      0.93    184061\n",
      "           4       0.92      0.92      0.92    197806\n",
      "           5       0.82      0.99      0.90    183662\n",
      "           6       0.70      0.96      0.81    181870\n",
      "           7       1.00      0.40      0.58    185455\n",
      "\n",
      "    accuracy                           0.77   1211933\n",
      "   macro avg       0.77      0.76      0.69   1211933\n",
      "weighted avg       0.83      0.77      0.75   1211933\n",
      "\n"
     ]
    }
   ],
   "source": [
    "#put all together                    \n",
    "columns_imp = ['magnitude_waist_mag_slope', 'magnitude_chest_mag_slope', 'magnitude_shin_gyr_slope', 'magnitude_waist_acc_slope',\n",
    "                 'magnitude_upperarm_acc_slope', 'magnitude_waist_mag_sd', 'magnitude_shin_gyr_sd', 'magnitude_upperarm_gyr_sd', 'magnitude_thigh_acc_sd',\n",
    "                 'magnitude_upperarm_acc_sd', 'magnitude_thigh_mag_mean', 'magnitude_upperarm_mag_mean', 'magnitude_chest_gyr_mean', 'magnitude_waist_gyr_mean',\n",
    "                 'magnitude_chest_acc_mean', 'magnitude_upperarm_acc_mean', 'magnitude_waist_acc_mean', 'Activity']\n",
    "imp_set = new_subset[columns_imp]\n",
    "imp_m, imp_X = rf_model_new(best_grid, imp_set)"
   ]
  },
  {
   "cell_type": "code",
   "execution_count": 29,
   "metadata": {},
   "outputs": [
    {
     "name": "stdout",
     "output_type": "stream",
     "text": [
      "Variable: magnitude_thigh_mag_mean Importance: 0.14\n",
      "Variable: magnitude_upperarm_mag_mean Importance: 0.1\n",
      "Variable: magnitude_chest_gyr_mean Importance: 0.09\n",
      "Variable: magnitude_upperarm_acc_mean Importance: 0.09\n",
      "Variable: magnitude_chest_acc_mean Importance: 0.08\n",
      "Variable: magnitude_waist_acc_mean Importance: 0.08\n",
      "Variable: magnitude_waist_gyr_mean Importance: 0.07\n",
      "Variable: magnitude_shin_gyr_sd Importance: 0.05\n",
      "Variable: magnitude_thigh_acc_sd Importance: 0.05\n",
      "Variable: magnitude_shin_gyr_slope Importance: 0.04\n",
      "Variable: magnitude_upperarm_acc_slope Importance: 0.04\n",
      "Variable: magnitude_waist_mag_sd Importance: 0.04\n",
      "Variable: magnitude_upperarm_acc_sd Importance: 0.04\n",
      "Variable: magnitude_waist_acc_slope Importance: 0.03\n",
      "Variable: magnitude_upperarm_gyr_sd Importance: 0.03\n",
      "Variable: magnitude_waist_mag_slope Importance: 0.02\n",
      "Variable: magnitude_chest_mag_slope Importance: 0.02\n"
     ]
    },
    {
     "data": {
      "image/png": "[encoded data removed]",
      "text/plain": [
       "<Figure size 432x288 with 1 Axes>"
      ]
     },
     "metadata": {
      "needs_background": "light"
     },
     "output_type": "display_data"
    }
   ],
   "source": [
    "importance_features(imp_m, imp_X, 'imp_set')"
   ]
  },
  {
   "cell_type": "code",
   "execution_count": 13,
   "metadata": {},
   "outputs": [],
   "source": [
    "# !!! RUN !!!\n",
    "#do this with balanced model\n",
    "best_grid = RandomForestClassifier(max_depth=50, max_features=3, min_samples_leaf=3, \n",
    "                                  min_samples_split=8, n_estimators=200, class_weight='balanced')"
   ]
  },
  {
   "cell_type": "code",
   "execution_count": 27,
   "metadata": {},
   "outputs": [
    {
     "name": "stdout",
     "output_type": "stream",
     "text": [
      "(4847731, 17)\n",
      "(4847731,)\n",
      "(1211933, 17)\n",
      "(1211933,)\n",
      "Mean Absolute Error: 0.06 degrees.\n",
      "[[115613   2609     82      0    520     30     66   1596]\n",
      " [  2404 132266     11      0     86     17    149   2913]\n",
      " [   112      2  20250      0    348      0      5      0]\n",
      " [   162    630      3 182470     81    149    524     42]\n",
      " [   990    358     88      6 193969    151   1925    319]\n",
      " [    32    319      0     20     57 181743   1455     36]\n",
      " [     4     96      0      9     31    142 181541     47]\n",
      " [  1662   1515      4      3     74     66    266 181865]]\n",
      "              precision    recall  f1-score   support\n",
      "\n",
      "           0       0.96      0.96      0.96    120516\n",
      "           1       0.96      0.96      0.96    137846\n",
      "           2       0.99      0.98      0.98     20717\n",
      "           3       1.00      0.99      1.00    184061\n",
      "           4       0.99      0.98      0.99    197806\n",
      "           5       1.00      0.99      0.99    183662\n",
      "           6       0.98      1.00      0.99    181870\n",
      "           7       0.97      0.98      0.98    185455\n",
      "\n",
      "    accuracy                           0.98   1211933\n",
      "   macro avg       0.98      0.98      0.98   1211933\n",
      "weighted avg       0.98      0.98      0.98   1211933\n",
      "\n"
     ]
    },
    {
     "ename": "ValueError",
     "evalue": "too many values to unpack (expected 2)",
     "output_type": "error",
     "traceback": [
      "\u001b[1;31m---------------------------------------------------------------------------\u001b[0m",
      "\u001b[1;31mValueError\u001b[0m                                Traceback (most recent call last)",
      "\u001b[1;32m<ipython-input-27-e80a521bddfe>\u001b[0m in \u001b[0;36m<module>\u001b[1;34m\u001b[0m\n\u001b[0;32m      6\u001b[0m                  'magnitude_chest_acc_mean', 'magnitude_upperarm_acc_mean', 'magnitude_waist_acc_mean', 'Activity']\n\u001b[0;32m      7\u001b[0m \u001b[0mimp_set\u001b[0m \u001b[1;33m=\u001b[0m \u001b[0mnew_subset\u001b[0m\u001b[1;33m[\u001b[0m\u001b[0mcolumns_imp\u001b[0m\u001b[1;33m]\u001b[0m\u001b[1;33m\u001b[0m\u001b[1;33m\u001b[0m\u001b[0m\n\u001b[1;32m----> 8\u001b[1;33m \u001b[0mimp_m\u001b[0m\u001b[1;33m,\u001b[0m \u001b[0mimp_X\u001b[0m \u001b[1;33m=\u001b[0m \u001b[0mrf_model_new\u001b[0m\u001b[1;33m(\u001b[0m\u001b[0mbest_grid\u001b[0m\u001b[1;33m,\u001b[0m \u001b[0mimp_set\u001b[0m\u001b[1;33m)\u001b[0m\u001b[1;33m\u001b[0m\u001b[1;33m\u001b[0m\u001b[0m\n\u001b[0m\u001b[0;32m      9\u001b[0m \u001b[0mimportance_features\u001b[0m\u001b[1;33m(\u001b[0m\u001b[0mimp_m\u001b[0m\u001b[1;33m,\u001b[0m \u001b[0mimp_X\u001b[0m\u001b[1;33m,\u001b[0m \u001b[1;34m'imp_set'\u001b[0m\u001b[1;33m)\u001b[0m\u001b[1;33m\u001b[0m\u001b[1;33m\u001b[0m\u001b[0m\n",
      "\u001b[1;31mValueError\u001b[0m: too many values to unpack (expected 2)"
     ]
    }
   ],
   "source": [
    "#put it all together\n",
    "columns_imp = ['magnitude_waist_mag_slope', 'magnitude_chest_mag_slope', 'magnitude_shin_gyr_slope', 'magnitude_waist_acc_slope',\n",
    "                 'magnitude_upperarm_acc_slope', 'magnitude_waist_mag_sd', 'magnitude_shin_gyr_sd', 'magnitude_upperarm_gyr_sd', 'magnitude_thigh_acc_sd',\n",
    "                 'magnitude_upperarm_acc_sd', 'magnitude_thigh_mag_mean', 'magnitude_upperarm_mag_mean', 'magnitude_chest_gyr_mean', 'magnitude_waist_gyr_mean',\n",
    "                 'magnitude_chest_acc_mean', 'magnitude_upperarm_acc_mean', 'magnitude_waist_acc_mean', 'Activity']\n",
    "imp_set = new_subset[columns_imp]\n",
    "imp_m, imp_X = rf_model_new(best_grid, imp_set)\n",
    "importance_features(imp_m, imp_X, 'imp_set')"
   ]
  },
  {
   "cell_type": "code",
   "execution_count": 28,
   "metadata": {},
   "outputs": [
    {
     "name": "stdout",
     "output_type": "stream",
     "text": [
      "Variable: magnitude_upperarm_acc_mean Importance: 0.13\n",
      "Variable: magnitude_thigh_mag_mean Importance: 0.11\n",
      "Variable: magnitude_chest_gyr_mean Importance: 0.1\n",
      "Variable: magnitude_upperarm_mag_mean Importance: 0.08\n",
      "Variable: magnitude_chest_acc_mean Importance: 0.08\n",
      "Variable: magnitude_upperarm_acc_sd Importance: 0.07\n",
      "Variable: magnitude_waist_gyr_mean Importance: 0.07\n",
      "Variable: magnitude_waist_acc_mean Importance: 0.07\n",
      "Variable: magnitude_shin_gyr_sd Importance: 0.06\n",
      "Variable: magnitude_thigh_acc_sd Importance: 0.06\n",
      "Variable: magnitude_upperarm_acc_slope Importance: 0.04\n",
      "Variable: magnitude_upperarm_gyr_sd Importance: 0.04\n",
      "Variable: magnitude_shin_gyr_slope Importance: 0.02\n",
      "Variable: magnitude_waist_acc_slope Importance: 0.02\n",
      "Variable: magnitude_waist_mag_sd Importance: 0.02\n",
      "Variable: magnitude_waist_mag_slope Importance: 0.01\n",
      "Variable: magnitude_chest_mag_slope Importance: 0.01\n"
     ]
    },
    {
     "data": {
      "image/png": "[encoded data removed]",
      "text/plain": [
       "<Figure size 432x288 with 1 Axes>"
      ]
     },
     "metadata": {
      "needs_background": "light"
     },
     "output_type": "display_data"
    }
   ],
   "source": [
    "importance_features(imp_m, imp_X, 'imp_set')"
   ]
  }
 ],
 "metadata": {
  "colab": {
   "name": "Modelling - Vanilla Algorithms.ipynb",
   "provenance": []
  },
  "kernelspec": {
   "display_name": "Python 3",
   "language": "python",
   "name": "python3"
  },
  "language_info": {
   "codemirror_mode": {
    "name": "ipython",
    "version": 3
   },
   "file_extension": ".py",
   "mimetype": "text/x-python",
   "name": "python",
   "nbconvert_exporter": "python",
   "pygments_lexer": "ipython3",
   "version": "3.7.10"
  }
 },
 "nbformat": 4,
 "nbformat_minor": 1
}
