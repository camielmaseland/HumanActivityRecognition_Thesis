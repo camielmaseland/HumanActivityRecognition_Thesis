{
 "cells": [
  {
   "cell_type": "markdown",
   "metadata": {
    "id": "euPQYc6KxKsy"
   },
   "source": [
    "# Modelling - Vanilla Algorithms Gridsearch MLR\n",
    "Author: P.C.O. Maseland <br>\n",
    "Date: 03 December 2021 <br>"
   ]
  },
  {
   "cell_type": "code",
   "execution_count": 19,
   "metadata": {
    "id": "rg7c0Vdk379_"
   },
   "outputs": [],
   "source": [
    "# !!! RUN !!!\n",
    "#Import packages/libraries\n",
    "import pandas as pd\n",
    "import numpy as np\n",
    "import time\n",
    "\n",
    "import matplotlib.pyplot as plt\n",
    "\n",
    "from sklearn.metrics import classification_report, confusion_matrix\n",
    "from sklearn.model_selection import train_test_split\n",
    "from sklearn.model_selection import GridSearchCV\n",
    "from sklearn.metrics import mean_squared_error\n",
    "\n",
    "#Linear Regression\n",
    "from sklearn.linear_model import LogisticRegression\n",
    "\n",
    "%matplotlib inline"
   ]
  },
  {
   "cell_type": "markdown",
   "metadata": {
    "id": "Kmv-RN492hFN"
   },
   "source": [
    "### Load Correct datafile\n",
    "\n",
    "**prepared accelerometer, gyroscope and magnetometer csv**"
   ]
  },
  {
   "cell_type": "code",
   "execution_count": 2,
   "metadata": {
    "id": "KQ62nPz32gdU"
   },
   "outputs": [],
   "source": [
    "# !!! RUN !!!\n",
    "#local jupyter notebook path\n",
    "path =\"Totalset+slopes+mean+sd.csv\"\n",
    "df = pd.read_csv(path)"
   ]
  },
  {
   "cell_type": "code",
   "execution_count": 3,
   "metadata": {
    "id": "NPv2Z6o1t4nK"
   },
   "outputs": [],
   "source": [
    "# !!! RUN !!!\n",
    "#reorder such that labels are at the back\n",
    "df = df[[c for c in df if c not in ['Subject ID','Activity']] \n",
    "       + ['Subject ID','Activity']]"
   ]
  },
  {
   "cell_type": "markdown",
   "metadata": {},
   "source": [
    "**Activity coding**\n",
    "- 'climbingdown' {0} \n",
    "- 'climbingup' {1} \n",
    "- 'jumping' {2} \n",
    "- 'lying' {3} \n",
    "- 'running' {4} \n",
    "- 'sitting' {5}\n",
    "- 'standing' {6} \n",
    "- 'walking' {7}]"
   ]
  },
  {
   "cell_type": "markdown",
   "metadata": {
    "id": "_B9QPCJcFmWG"
   },
   "source": [
    "### Remove/Convert statistical NaN values\n",
    "Since we calculated our rolled statistics over a nr of timesteps. The first nr of timesteps have a NaN, these are therefore useless. On the whole set we removed thereby 24336 rows, which is just a small fraction of 0.4% of the whole."
   ]
  },
  {
   "cell_type": "code",
   "execution_count": 4,
   "metadata": {
    "id": "t8uycyAOoUlp"
   },
   "outputs": [],
   "source": [
    "# !!! RUN !!!\n",
    "df = df. dropna()"
   ]
  },
  {
   "cell_type": "markdown",
   "metadata": {},
   "source": [
    "### Full set copy"
   ]
  },
  {
   "cell_type": "code",
   "execution_count": 5,
   "metadata": {},
   "outputs": [
    {
     "name": "stdout",
     "output_type": "stream",
     "text": [
      "(6059664, 86)\n"
     ]
    }
   ],
   "source": [
    "# !!! RUN !!!\n",
    "#create copy full set\n",
    "fullset = df\n",
    "print(fullset.shape)\n",
    "\n",
    "#drop subject ID\n",
    "fullset_without_subject = fullset.drop(columns=['Subject ID'])\n",
    "\n",
    "#shuffle fullset\n",
    "fullset_without_subject = fullset_without_subject.sample(frac=1)"
   ]
  },
  {
   "cell_type": "markdown",
   "metadata": {},
   "source": [
    "### Make new subset\n",
    "With only time-base statistical values"
   ]
  },
  {
   "cell_type": "code",
   "execution_count": 7,
   "metadata": {},
   "outputs": [
    {
     "data": {
      "text/plain": [
       "(6059664, 64)"
      ]
     },
     "execution_count": 7,
     "metadata": {},
     "output_type": "execute_result"
    }
   ],
   "source": [
    "# !!! RUN !!!\n",
    "statistical_cols = [col for col in fullset_without_subject.columns if ('slope' in col \n",
    "                                                                      or 'mean' in col \n",
    "                                                                      or 'sd' in col\n",
    "                                                                      or 'Activity' in col)]\n",
    "statistical_cols\n",
    "\n",
    "new_subset = fullset_without_subject[statistical_cols]\n",
    "new_subset.shape"
   ]
  },
  {
   "cell_type": "markdown",
   "metadata": {},
   "source": [
    "### Multinomial Logistical Regression modelling"
   ]
  },
  {
   "cell_type": "code",
   "execution_count": 8,
   "metadata": {},
   "outputs": [],
   "source": [
    "# !!! RUN !!!\n",
    "def dataset_prep(dataset, filters):\n",
    "    filterscolls = [col for col in dataset.columns if (filters in col or 'Activity' in col)]\n",
    "    outputname = dataset[filterscolls]\n",
    "    \n",
    "    X = outputname.iloc[:,:-1]\n",
    "    print(X.shape)\n",
    "\n",
    "    y = outputname['Activity']\n",
    "    print(y.shape)\n",
    "    \n",
    "    return outputname, X, y"
   ]
  },
  {
   "cell_type": "markdown",
   "metadata": {},
   "source": [
    "#### Gridsearch multinomial logistic regression\n",
    "using mean values of acc <br>\n",
    "\n",
    "Solvers\n",
    "For multiclass problems, only ‘newton-cg’, ‘sag’, ‘saga’ and ‘lbfgs’ handle multinomial loss;\n",
    "Only sag and saga work with scaled data, newton-cg takes lot oc computational time. So lbfgs is logical default option.\n",
    "\n",
    "https://scikit-learn.org/stable/modules/generated/sklearn.linear_model.LogisticRegression.html"
   ]
  },
  {
   "cell_type": "markdown",
   "metadata": {},
   "source": [
    "##### Make sample dataset"
   ]
  },
  {
   "cell_type": "code",
   "execution_count": 12,
   "metadata": {},
   "outputs": [
    {
     "name": "stdout",
     "output_type": "stream",
     "text": [
      "(6059664, 7)\n",
      "(6059664,)\n",
      "(6059664, 7)\n",
      "(6059664,)\n"
     ]
    }
   ],
   "source": [
    "acc_mean_subset, acc_meanX, acc_meany = dataset_prep(new_subset, 'acc_mean')\n",
    "gyr_mean_subset, gyr_meanX, gyr_meany = dataset_prep(new_subset, 'gyr_mean')"
   ]
  },
  {
   "cell_type": "markdown",
   "metadata": {},
   "source": [
    "##### Grid search param set up"
   ]
  },
  {
   "cell_type": "code",
   "execution_count": 20,
   "metadata": {},
   "outputs": [
    {
     "data": {
      "text/html": [
       "<div>\n",
       "<style scoped>\n",
       "    .dataframe tbody tr th:only-of-type {\n",
       "        vertical-align: middle;\n",
       "    }\n",
       "\n",
       "    .dataframe tbody tr th {\n",
       "        vertical-align: top;\n",
       "    }\n",
       "\n",
       "    .dataframe thead th {\n",
       "        text-align: right;\n",
       "    }\n",
       "</style>\n",
       "<table border=\"1\" class=\"dataframe\">\n",
       "  <thead>\n",
       "    <tr style=\"text-align: right;\">\n",
       "      <th></th>\n",
       "      <th>magnitude_chest_acc_mean</th>\n",
       "      <th>magnitude_forearm_acc_mean</th>\n",
       "      <th>magnitude_head_acc_mean</th>\n",
       "      <th>magnitude_shin_acc_mean</th>\n",
       "      <th>magnitude_thigh_acc_mean</th>\n",
       "      <th>magnitude_upperarm_acc_mean</th>\n",
       "      <th>magnitude_waist_acc_mean</th>\n",
       "    </tr>\n",
       "  </thead>\n",
       "  <tbody>\n",
       "    <tr>\n",
       "      <th>5358686</th>\n",
       "      <td>7.353041</td>\n",
       "      <td>12.593770</td>\n",
       "      <td>7.916972</td>\n",
       "      <td>6.334679</td>\n",
       "      <td>12.384456</td>\n",
       "      <td>12.727567</td>\n",
       "      <td>13.770539</td>\n",
       "    </tr>\n",
       "    <tr>\n",
       "      <th>2944639</th>\n",
       "      <td>4.925388</td>\n",
       "      <td>6.818094</td>\n",
       "      <td>2.225232</td>\n",
       "      <td>18.314108</td>\n",
       "      <td>15.960121</td>\n",
       "      <td>14.145843</td>\n",
       "      <td>19.137262</td>\n",
       "    </tr>\n",
       "    <tr>\n",
       "      <th>5003424</th>\n",
       "      <td>8.457414</td>\n",
       "      <td>10.645859</td>\n",
       "      <td>9.058623</td>\n",
       "      <td>15.739791</td>\n",
       "      <td>8.905845</td>\n",
       "      <td>9.221570</td>\n",
       "      <td>7.758266</td>\n",
       "    </tr>\n",
       "    <tr>\n",
       "      <th>3500763</th>\n",
       "      <td>9.288422</td>\n",
       "      <td>10.357164</td>\n",
       "      <td>9.627246</td>\n",
       "      <td>10.174630</td>\n",
       "      <td>9.556443</td>\n",
       "      <td>10.437294</td>\n",
       "      <td>9.925295</td>\n",
       "    </tr>\n",
       "    <tr>\n",
       "      <th>3370883</th>\n",
       "      <td>9.475018</td>\n",
       "      <td>10.254427</td>\n",
       "      <td>9.623447</td>\n",
       "      <td>10.150041</td>\n",
       "      <td>9.761166</td>\n",
       "      <td>10.114934</td>\n",
       "      <td>9.794806</td>\n",
       "    </tr>\n",
       "  </tbody>\n",
       "</table>\n",
       "</div>"
      ],
      "text/plain": [
       "         magnitude_chest_acc_mean  magnitude_forearm_acc_mean  \\\n",
       "5358686                  7.353041                   12.593770   \n",
       "2944639                  4.925388                    6.818094   \n",
       "5003424                  8.457414                   10.645859   \n",
       "3500763                  9.288422                   10.357164   \n",
       "3370883                  9.475018                   10.254427   \n",
       "\n",
       "         magnitude_head_acc_mean  magnitude_shin_acc_mean  \\\n",
       "5358686                 7.916972                 6.334679   \n",
       "2944639                 2.225232                18.314108   \n",
       "5003424                 9.058623                15.739791   \n",
       "3500763                 9.627246                10.174630   \n",
       "3370883                 9.623447                10.150041   \n",
       "\n",
       "         magnitude_thigh_acc_mean  magnitude_upperarm_acc_mean  \\\n",
       "5358686                 12.384456                    12.727567   \n",
       "2944639                 15.960121                    14.145843   \n",
       "5003424                  8.905845                     9.221570   \n",
       "3500763                  9.556443                    10.437294   \n",
       "3370883                  9.761166                    10.114934   \n",
       "\n",
       "         magnitude_waist_acc_mean  \n",
       "5358686                 13.770539  \n",
       "2944639                 19.137262  \n",
       "5003424                  7.758266  \n",
       "3500763                  9.925295  \n",
       "3370883                  9.794806  "
      ]
     },
     "execution_count": 20,
     "metadata": {},
     "output_type": "execute_result"
    }
   ],
   "source": [
    "penalty = ['l1','l2']\n",
    "max_iter=[40, 80, 100] #add 140\n",
    "C = np.linspace(0.1, 1.0, num=5)\n",
    "\n",
    "#set params\n",
    "param_grid = dict(max_iter=max_iter, C=C, penalty=penalty)\n",
    "\n",
    "# Write your code below\n",
    "acc_meanX.head()\n"
   ]
  },
  {
   "cell_type": "code",
   "execution_count": 24,
   "metadata": {},
   "outputs": [],
   "source": [
    "#model\n",
    "model = LogisticRegression(multi_class='multinomial', \n",
    "                            solver='lbfgs', \n",
    "                            class_weight='balanced')"
   ]
  },
  {
   "cell_type": "code",
   "execution_count": 25,
   "metadata": {},
   "outputs": [],
   "source": [
    "#set up gridsearch\n",
    "grid = GridSearchCV(estimator=model, param_grid=param_grid, cv = 5)"
   ]
  },
  {
   "cell_type": "code",
   "execution_count": 26,
   "metadata": {
    "scrolled": true
   },
   "outputs": [
    {
     "name": "stderr",
     "output_type": "stream",
     "text": [
      "C:\\Users\\31657\\anaconda3\\lib\\site-packages\\sklearn\\linear_model\\_sag.py:329: ConvergenceWarning: The max_iter was reached which means the coef_ did not converge\n",
      "  \"the coef_ did not converge\", ConvergenceWarning)\n",
      "C:\\Users\\31657\\anaconda3\\lib\\site-packages\\sklearn\\linear_model\\_sag.py:329: ConvergenceWarning: The max_iter was reached which means the coef_ did not converge\n",
      "  \"the coef_ did not converge\", ConvergenceWarning)\n",
      "C:\\Users\\31657\\anaconda3\\lib\\site-packages\\sklearn\\linear_model\\_sag.py:329: ConvergenceWarning: The max_iter was reached which means the coef_ did not converge\n",
      "  \"the coef_ did not converge\", ConvergenceWarning)\n",
      "C:\\Users\\31657\\anaconda3\\lib\\site-packages\\sklearn\\linear_model\\_sag.py:329: ConvergenceWarning: The max_iter was reached which means the coef_ did not converge\n",
      "  \"the coef_ did not converge\", ConvergenceWarning)\n",
      "C:\\Users\\31657\\anaconda3\\lib\\site-packages\\sklearn\\linear_model\\_sag.py:329: ConvergenceWarning: The max_iter was reached which means the coef_ did not converge\n",
      "  \"the coef_ did not converge\", ConvergenceWarning)\n",
      "C:\\Users\\31657\\anaconda3\\lib\\site-packages\\sklearn\\linear_model\\_sag.py:329: ConvergenceWarning: The max_iter was reached which means the coef_ did not converge\n",
      "  \"the coef_ did not converge\", ConvergenceWarning)\n",
      "C:\\Users\\31657\\anaconda3\\lib\\site-packages\\sklearn\\linear_model\\_sag.py:329: ConvergenceWarning: The max_iter was reached which means the coef_ did not converge\n",
      "  \"the coef_ did not converge\", ConvergenceWarning)\n",
      "C:\\Users\\31657\\anaconda3\\lib\\site-packages\\sklearn\\linear_model\\_sag.py:329: ConvergenceWarning: The max_iter was reached which means the coef_ did not converge\n",
      "  \"the coef_ did not converge\", ConvergenceWarning)\n",
      "C:\\Users\\31657\\anaconda3\\lib\\site-packages\\sklearn\\linear_model\\_sag.py:329: ConvergenceWarning: The max_iter was reached which means the coef_ did not converge\n",
      "  \"the coef_ did not converge\", ConvergenceWarning)\n",
      "C:\\Users\\31657\\anaconda3\\lib\\site-packages\\sklearn\\linear_model\\_sag.py:329: ConvergenceWarning: The max_iter was reached which means the coef_ did not converge\n",
      "  \"the coef_ did not converge\", ConvergenceWarning)\n",
      "C:\\Users\\31657\\anaconda3\\lib\\site-packages\\sklearn\\linear_model\\_sag.py:329: ConvergenceWarning: The max_iter was reached which means the coef_ did not converge\n",
      "  \"the coef_ did not converge\", ConvergenceWarning)\n",
      "C:\\Users\\31657\\anaconda3\\lib\\site-packages\\sklearn\\linear_model\\_sag.py:329: ConvergenceWarning: The max_iter was reached which means the coef_ did not converge\n",
      "  \"the coef_ did not converge\", ConvergenceWarning)\n",
      "C:\\Users\\31657\\anaconda3\\lib\\site-packages\\sklearn\\linear_model\\_sag.py:329: ConvergenceWarning: The max_iter was reached which means the coef_ did not converge\n",
      "  \"the coef_ did not converge\", ConvergenceWarning)\n",
      "C:\\Users\\31657\\anaconda3\\lib\\site-packages\\sklearn\\linear_model\\_sag.py:329: ConvergenceWarning: The max_iter was reached which means the coef_ did not converge\n",
      "  \"the coef_ did not converge\", ConvergenceWarning)\n",
      "C:\\Users\\31657\\anaconda3\\lib\\site-packages\\sklearn\\linear_model\\_sag.py:329: ConvergenceWarning: The max_iter was reached which means the coef_ did not converge\n",
      "  \"the coef_ did not converge\", ConvergenceWarning)\n",
      "C:\\Users\\31657\\anaconda3\\lib\\site-packages\\sklearn\\linear_model\\_sag.py:329: ConvergenceWarning: The max_iter was reached which means the coef_ did not converge\n",
      "  \"the coef_ did not converge\", ConvergenceWarning)\n",
      "C:\\Users\\31657\\anaconda3\\lib\\site-packages\\sklearn\\linear_model\\_sag.py:329: ConvergenceWarning: The max_iter was reached which means the coef_ did not converge\n",
      "  \"the coef_ did not converge\", ConvergenceWarning)\n",
      "C:\\Users\\31657\\anaconda3\\lib\\site-packages\\sklearn\\linear_model\\_sag.py:329: ConvergenceWarning: The max_iter was reached which means the coef_ did not converge\n",
      "  \"the coef_ did not converge\", ConvergenceWarning)\n",
      "C:\\Users\\31657\\anaconda3\\lib\\site-packages\\sklearn\\linear_model\\_sag.py:329: ConvergenceWarning: The max_iter was reached which means the coef_ did not converge\n",
      "  \"the coef_ did not converge\", ConvergenceWarning)\n",
      "C:\\Users\\31657\\anaconda3\\lib\\site-packages\\sklearn\\linear_model\\_sag.py:329: ConvergenceWarning: The max_iter was reached which means the coef_ did not converge\n",
      "  \"the coef_ did not converge\", ConvergenceWarning)\n",
      "C:\\Users\\31657\\anaconda3\\lib\\site-packages\\sklearn\\linear_model\\_sag.py:329: ConvergenceWarning: The max_iter was reached which means the coef_ did not converge\n",
      "  \"the coef_ did not converge\", ConvergenceWarning)\n",
      "C:\\Users\\31657\\anaconda3\\lib\\site-packages\\sklearn\\linear_model\\_sag.py:329: ConvergenceWarning: The max_iter was reached which means the coef_ did not converge\n",
      "  \"the coef_ did not converge\", ConvergenceWarning)\n",
      "C:\\Users\\31657\\anaconda3\\lib\\site-packages\\sklearn\\linear_model\\_sag.py:329: ConvergenceWarning: The max_iter was reached which means the coef_ did not converge\n",
      "  \"the coef_ did not converge\", ConvergenceWarning)\n",
      "C:\\Users\\31657\\anaconda3\\lib\\site-packages\\sklearn\\linear_model\\_sag.py:329: ConvergenceWarning: The max_iter was reached which means the coef_ did not converge\n",
      "  \"the coef_ did not converge\", ConvergenceWarning)\n",
      "C:\\Users\\31657\\anaconda3\\lib\\site-packages\\sklearn\\linear_model\\_sag.py:329: ConvergenceWarning: The max_iter was reached which means the coef_ did not converge\n",
      "  \"the coef_ did not converge\", ConvergenceWarning)\n",
      "C:\\Users\\31657\\anaconda3\\lib\\site-packages\\sklearn\\linear_model\\_sag.py:329: ConvergenceWarning: The max_iter was reached which means the coef_ did not converge\n",
      "  \"the coef_ did not converge\", ConvergenceWarning)\n",
      "C:\\Users\\31657\\anaconda3\\lib\\site-packages\\sklearn\\linear_model\\_sag.py:329: ConvergenceWarning: The max_iter was reached which means the coef_ did not converge\n",
      "  \"the coef_ did not converge\", ConvergenceWarning)\n",
      "C:\\Users\\31657\\anaconda3\\lib\\site-packages\\sklearn\\linear_model\\_sag.py:329: ConvergenceWarning: The max_iter was reached which means the coef_ did not converge\n",
      "  \"the coef_ did not converge\", ConvergenceWarning)\n",
      "C:\\Users\\31657\\anaconda3\\lib\\site-packages\\sklearn\\linear_model\\_sag.py:329: ConvergenceWarning: The max_iter was reached which means the coef_ did not converge\n",
      "  \"the coef_ did not converge\", ConvergenceWarning)\n",
      "C:\\Users\\31657\\anaconda3\\lib\\site-packages\\sklearn\\linear_model\\_sag.py:329: ConvergenceWarning: The max_iter was reached which means the coef_ did not converge\n",
      "  \"the coef_ did not converge\", ConvergenceWarning)\n"
     ]
    },
    {
     "name": "stdout",
     "output_type": "stream",
     "text": [
      "Best: 0.497662 using {'C': 0.325, 'max_iter': 40, 'penalty': 'l2'}\n",
      "Execution time: 27762.78554201126 ms\n"
     ]
    }
   ],
   "source": [
    "#run gridsearch\n",
    "start_time = time.time()\n",
    "grid_result = grid.fit(acc_meanX, acc_meany)\n",
    "# Summarize results\n",
    "print(\"Best: %f using %s\" % (grid_result.best_score_, grid_result.best_params_))\n",
    "print(\"Execution time: \" + str((time.time() - start_time)) + ' ms')"
   ]
  },
  {
   "cell_type": "markdown",
   "metadata": {},
   "source": [
    "#### Use best model for testcases\n",
    "Test on some subsets to see if results improved"
   ]
  },
  {
   "cell_type": "markdown",
   "metadata": {},
   "source": [
    "#### best model"
   ]
  },
  {
   "cell_type": "code",
   "execution_count": 54,
   "metadata": {},
   "outputs": [],
   "source": [
    "#best model\n",
    "model = LogisticRegression(multi_class='multinomial', \n",
    "                            solver='lbfgs', \n",
    "                            penalty='l2', C=0.325, max_iter=70, \n",
    "                            class_weight='balanced')"
   ]
  },
  {
   "cell_type": "code",
   "execution_count": 59,
   "metadata": {},
   "outputs": [],
   "source": [
    "def multivar_log_best(X, y):    \n",
    "    X_train, X_test, y_train, y_test = train_test_split(X, y, test_size=0.2, random_state=40, stratify=y)\n",
    "    \n",
    "    #model\n",
    "    model = LogisticRegression(multi_class='multinomial', \n",
    "                            solver='lbfgs', \n",
    "                            penalty='l2', C=0.325, max_iter=140, \n",
    "                            class_weight='balanced')\n",
    "    #fit model\n",
    "    model.fit(X_train, y_train)\n",
    "    #make prediction and evaluation\n",
    "    y_pred = model.predict(X_test)\n",
    "    print(confusion_matrix(y_test, y_pred))\n",
    "    print(classification_report(y_test, y_pred))\n",
    "    \n",
    "    return model, X_train\n",
    "    "
   ]
  },
  {
   "cell_type": "code",
   "execution_count": 49,
   "metadata": {},
   "outputs": [
    {
     "name": "stdout",
     "output_type": "stream",
     "text": [
      "(6059664, 7)\n",
      "(6059664,)\n",
      "[[  5360   6404  17482  22624  26954   6473  13492  21727]\n",
      " [  6775  10872  18496  31789  16975  11921  20559  20459]\n",
      " [   524    160   4943   5688   5568    650   1569   1615]\n",
      " [    46    279    131 164965     35  17157   1368     80]\n",
      " [  2298   3513  13557   7048 118512   8659  29100  15119]\n",
      " [    44   1300    242   8658      7 111466  61872     73]\n",
      " [    33   1100    265   3780     38  28806 147779     69]\n",
      " [  8781  13707  21308  33552  42694  11240  14969  39204]]\n",
      "              precision    recall  f1-score   support\n",
      "\n",
      "           0       0.22      0.04      0.07    120516\n",
      "           1       0.29      0.08      0.12    137846\n",
      "           2       0.06      0.24      0.10     20717\n",
      "           3       0.59      0.90      0.71    184061\n",
      "           4       0.56      0.60      0.58    197806\n",
      "           5       0.57      0.61      0.59    183662\n",
      "           6       0.51      0.81      0.63    181870\n",
      "           7       0.40      0.21      0.28    185455\n",
      "\n",
      "    accuracy                           0.50   1211933\n",
      "   macro avg       0.40      0.44      0.39   1211933\n",
      "weighted avg       0.46      0.50      0.45   1211933\n",
      "\n"
     ]
    },
    {
     "data": {
      "image/png": "[encoded data removed]",
      "text/plain": [
       "<Figure size 432x288 with 1 Axes>"
      ]
     },
     "metadata": {
      "needs_background": "light"
     },
     "output_type": "display_data"
    },
    {
     "name": "stdout",
     "output_type": "stream",
     "text": [
      "Index(['magnitude_chest_acc_mean', 'magnitude_forearm_acc_mean',\n",
      "       'magnitude_head_acc_mean', 'magnitude_shin_acc_mean',\n",
      "       'magnitude_thigh_acc_mean', 'magnitude_upperarm_acc_mean',\n",
      "       'magnitude_waist_acc_mean'],\n",
      "      dtype='object')\n"
     ]
    }
   ],
   "source": [
    "acc_mean_subset, acc_meanX, acc_meany = dataset_prep(new_subset, 'acc_mean')\n",
    "mlog_acc_mean, acc_mean_train = multivar_log_best(acc_meanX, acc_meany)\n",
    "multivar_log_importance(mlog_acc_mean, acc_mean_train)"
   ]
  },
  {
   "cell_type": "code",
   "execution_count": 63,
   "metadata": {},
   "outputs": [
    {
     "name": "stdout",
     "output_type": "stream",
     "text": [
      "(6059664, 7)\n",
      "(6059664,)\n",
      "[[ 33994  23743  20775    144   4915    101    490  36354]\n",
      " [ 15120  63218  21800     64   2252    144   4845  30403]\n",
      " [  2786   3902   8820      0   2495      4      8   2702]\n",
      " [    24    820    625 147135     56  32157   3138    106]\n",
      " [  5256   6076  14781   5557 144533   6682  12683   2238]\n",
      " [    63   1012    249  93484     16  50501  38205    132]\n",
      " [    90   2803    288  46012     13  50621  81442    601]\n",
      " [ 22609  43572   8251    148   3009    150    328 107388]]\n",
      "              precision    recall  f1-score   support\n",
      "\n",
      "           0       0.43      0.28      0.34    120516\n",
      "           1       0.44      0.46      0.45    137846\n",
      "           2       0.12      0.43      0.18     20717\n",
      "           3       0.50      0.80      0.62    184061\n",
      "           4       0.92      0.73      0.81    197806\n",
      "           5       0.36      0.27      0.31    183662\n",
      "           6       0.58      0.45      0.50    181870\n",
      "           7       0.60      0.58      0.59    185455\n",
      "\n",
      "    accuracy                           0.53   1211933\n",
      "   macro avg       0.49      0.50      0.48   1211933\n",
      "weighted avg       0.55      0.53      0.53   1211933\n",
      "\n"
     ]
    },
    {
     "data": {
      "image/png": "[encoded data removed]",
      "text/plain": [
       "<Figure size 432x288 with 1 Axes>"
      ]
     },
     "metadata": {
      "needs_background": "light"
     },
     "output_type": "display_data"
    },
    {
     "name": "stdout",
     "output_type": "stream",
     "text": [
      "Index(['magnitude_chest_gyr_mean', 'magnitude_forearm_gyr_mean',\n",
      "       'magnitude_head_gyr_mean', 'magnitude_shin_gyr_mean',\n",
      "       'magnitude_thigh_gyr_mean', 'magnitude_upperarm_gyr_mean',\n",
      "       'magnitude_waist_gyr_mean'],\n",
      "      dtype='object')\n"
     ]
    }
   ],
   "source": [
    "gyr_mean_subset, gyr_meanX, gyr_meany = dataset_prep(new_subset, 'gyr_mean')\n",
    "mlog_gyr_mean, gyr_mean_train = multivar_log_best(gyr_meanX, gyr_meany)\n",
    "multivar_log_importance(mlog_gyr_mean, gyr_mean_train)"
   ]
  },
  {
   "cell_type": "code",
   "execution_count": 51,
   "metadata": {},
   "outputs": [
    {
     "name": "stdout",
     "output_type": "stream",
     "text": [
      "(6059664, 7)\n",
      "(6059664,)\n",
      "[[ 40672  24665  14274    163   7084    149    334  33175]\n",
      " [ 14968  80554   3197   1474    331   4902   3550  28870]\n",
      " [  3475    732  10805      0   4238      2      0   1465]\n",
      " [   206   1225    157 164979      8  13062   4319    105]\n",
      " [  5813   4146  37882   4035 120130   4041  18598   3161]\n",
      " [   172   1460     63  91077      8  71955  18807    120]\n",
      " [   226   4101     87  45344     11  51755  80140    206]\n",
      " [ 35313  58545   4446    144   2999    178    506  83324]]\n",
      "              precision    recall  f1-score   support\n",
      "\n",
      "           0       0.40      0.34      0.37    120516\n",
      "           1       0.46      0.58      0.51    137846\n",
      "           2       0.15      0.52      0.24     20717\n",
      "           3       0.54      0.90      0.67    184061\n",
      "           4       0.89      0.61      0.72    197806\n",
      "           5       0.49      0.39      0.44    183662\n",
      "           6       0.63      0.44      0.52    181870\n",
      "           7       0.55      0.45      0.50    185455\n",
      "\n",
      "    accuracy                           0.54   1211933\n",
      "   macro avg       0.52      0.53      0.50   1211933\n",
      "weighted avg       0.58      0.54      0.54   1211933\n",
      "\n"
     ]
    },
    {
     "data": {
      "image/png": "[encoded data removed]",
      "text/plain": [
       "<Figure size 432x288 with 1 Axes>"
      ]
     },
     "metadata": {
      "needs_background": "light"
     },
     "output_type": "display_data"
    },
    {
     "name": "stdout",
     "output_type": "stream",
     "text": [
      "Index(['magnitude_chest_gyr_sd', 'magnitude_forearm_gyr_sd',\n",
      "       'magnitude_head_gyr_sd', 'magnitude_shin_gyr_sd',\n",
      "       'magnitude_thigh_gyr_sd', 'magnitude_upperarm_gyr_sd',\n",
      "       'magnitude_waist_gyr_sd'],\n",
      "      dtype='object')\n"
     ]
    }
   ],
   "source": [
    "gyr_sd_subset, gyr_sdX, gyr_sdy = dataset_prep(new_subset, 'gyr_sd')\n",
    "mlog_gyr_sd, gyr_sd_train  = multivar_log_best(gyr_sdX, gyr_sdy)\n",
    "multivar_log_importance(mlog_gyr_sd, gyr_sd_train)"
   ]
  },
  {
   "cell_type": "code",
   "execution_count": 61,
   "metadata": {},
   "outputs": [
    {
     "name": "stdout",
     "output_type": "stream",
     "text": [
      "(6059664, 7)\n",
      "(6059664,)\n",
      "[[ 44920  25625   9115     95  11738    139    392  28492]\n",
      " [ 20380  81243    489   2756    716   3739   2653  25870]\n",
      " [  2853    516   9153      0   7130      1      1   1063]\n",
      " [    98   1359      8 160258     13  12236  10035     54]\n",
      " [  9450   3299  69719   5370  84181   4977  18451   2359]\n",
      " [    38   1434      0  81522     22  72802  27833     11]\n",
      " [    36   2180      3  59409      3  48976  71247     16]\n",
      " [ 46714  70568   2302    150   5932    166    250  59373]]\n",
      "              precision    recall  f1-score   support\n",
      "\n",
      "           0       0.36      0.37      0.37    120516\n",
      "           1       0.44      0.59      0.50    137846\n",
      "           2       0.10      0.44      0.16     20717\n",
      "           3       0.52      0.87      0.65    184061\n",
      "           4       0.77      0.43      0.55    197806\n",
      "           5       0.51      0.40      0.45    183662\n",
      "           6       0.54      0.39      0.46    181870\n",
      "           7       0.51      0.32      0.39    185455\n",
      "\n",
      "    accuracy                           0.48   1211933\n",
      "   macro avg       0.47      0.48      0.44   1211933\n",
      "weighted avg       0.53      0.48      0.48   1211933\n",
      "\n"
     ]
    },
    {
     "data": {
      "image/png": "[encoded data removed]",
      "text/plain": [
       "<Figure size 432x288 with 1 Axes>"
      ]
     },
     "metadata": {
      "needs_background": "light"
     },
     "output_type": "display_data"
    },
    {
     "name": "stdout",
     "output_type": "stream",
     "text": [
      "Index(['magnitude_chest_acc_sd', 'magnitude_forearm_acc_sd',\n",
      "       'magnitude_head_acc_sd', 'magnitude_shin_acc_sd',\n",
      "       'magnitude_thigh_acc_sd', 'magnitude_upperarm_acc_sd',\n",
      "       'magnitude_waist_acc_sd'],\n",
      "      dtype='object')\n"
     ]
    }
   ],
   "source": [
    "acc_sd_subset, acc_sdX, acc_sdy = dataset_prep(new_subset, 'acc_sd')\n",
    "mlog_acc_sd, acc_sd_train  = multivar_log_best(acc_sdX, acc_sdy)\n",
    "multivar_log_importance(mlog_acc_sd, acc_sd_train)"
   ]
  },
  {
   "cell_type": "code",
   "execution_count": 62,
   "metadata": {},
   "outputs": [
    {
     "name": "stdout",
     "output_type": "stream",
     "text": [
      "(6059664, 7)\n",
      "(6059664,)\n",
      "[[ 18533  20037  22407    163  12845    310   1608  44613]\n",
      " [ 14625  38551  28937   2648  10536   2537   5213  34799]\n",
      " [  2002   2428   7943     63   3357    148    669   4107]\n",
      " [   197    314    873 120309    485  48348  12644    891]\n",
      " [ 16560  22369  40265   8912  76836   9115  10316  13433]\n",
      " [   247    322   1444  83527    260  74214  21427   2221]\n",
      " [   322    748   2034  67125    183  59361  49711   2386]\n",
      " [ 17422  22728  22485    240   9466    260   2310 110544]]\n",
      "              precision    recall  f1-score   support\n",
      "\n",
      "           0       0.27      0.15      0.19    120516\n",
      "           1       0.36      0.28      0.31    137846\n",
      "           2       0.06      0.38      0.11     20717\n",
      "           3       0.43      0.65      0.52    184061\n",
      "           4       0.67      0.39      0.49    197806\n",
      "           5       0.38      0.40      0.39    183662\n",
      "           6       0.48      0.27      0.35    181870\n",
      "           7       0.52      0.60      0.55    185455\n",
      "\n",
      "    accuracy                           0.41   1211933\n",
      "   macro avg       0.40      0.39      0.37   1211933\n",
      "weighted avg       0.45      0.41      0.41   1211933\n",
      "\n"
     ]
    },
    {
     "data": {
      "image/png": "[encoded data removed]",
      "text/plain": [
       "<Figure size 432x288 with 1 Axes>"
      ]
     },
     "metadata": {
      "needs_background": "light"
     },
     "output_type": "display_data"
    },
    {
     "name": "stdout",
     "output_type": "stream",
     "text": [
      "Index(['magnitude_chest_mag_sd', 'magnitude_forearm_mag_sd',\n",
      "       'magnitude_head_mag_sd', 'magnitude_shin_mag_sd',\n",
      "       'magnitude_thigh_mag_sd', 'magnitude_upperarm_mag_sd',\n",
      "       'magnitude_waist_mag_sd'],\n",
      "      dtype='object')\n"
     ]
    }
   ],
   "source": [
    "mag_sd_subset, mag_sdX, mag_sdy = dataset_prep(new_subset, 'mag_sd')\n",
    "mlog_mag_sd, mag_sd_train  = multivar_log_best(mag_sdX, mag_sdy)\n",
    "multivar_log_importance(mlog_mag_sd, mag_sd_train)"
   ]
  }
 ],
 "metadata": {
  "colab": {
   "name": "Modelling - Vanilla Algorithms.ipynb",
   "provenance": []
  },
  "kernelspec": {
   "display_name": "Python 3",
   "language": "python",
   "name": "python3"
  },
  "language_info": {
   "codemirror_mode": {
    "name": "ipython",
    "version": 3
   },
   "file_extension": ".py",
   "mimetype": "text/x-python",
   "name": "python",
   "nbconvert_exporter": "python",
   "pygments_lexer": "ipython3",
   "version": "3.7.10"
  }
 },
 "nbformat": 4,
 "nbformat_minor": 1
}
